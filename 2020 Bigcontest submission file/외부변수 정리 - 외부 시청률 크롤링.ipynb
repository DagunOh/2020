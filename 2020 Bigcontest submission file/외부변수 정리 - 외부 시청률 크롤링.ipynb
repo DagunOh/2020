{
 "cells": [
  {
   "cell_type": "code",
   "execution_count": 1,
   "metadata": {},
   "outputs": [],
   "source": [
    "import requests\n",
    "from bs4 import BeautifulSoup\n",
    "import re\n",
    "import pandas as pd"
   ]
  },
  {
   "cell_type": "markdown",
   "metadata": {},
   "source": [
    "## (1) 시청률 데이터 크롤링\n",
    "출처 : https://www.nielsenkorea.co.kr/ (닐슨코리아)\n",
    "- 홈쇼핑 방영시간 및 주변 시간대의 시청률이 홈쇼핑의 판매 실적에 영향을 줄 수 있다고 생각하여 변수를 만들어 보았습니다."
   ]
  },
  {
   "cell_type": "code",
   "execution_count": 2,
   "metadata": {},
   "outputs": [],
   "source": [
    "def get_title_rating(addr):\n",
    "    res = requests.get(addr)\n",
    "    soup = BeautifulSoup(res.content, 'html.parser') # only top 10\n",
    "    \n",
    "    # get title\n",
    "    title = soup.find_all('td', attrs = {'class': 'tb_txt'})[:10]\n",
    "    title = [re.sub('\t</td>', '', re.sub('<td class=\"tb_txt\">', '', str(t))) for t in title]\n",
    "    \n",
    "    # get rating\n",
    "    percent = soup.find_all('td', attrs = {'align':'center', 'class':'percent'})[:10]\n",
    "    percent = [re.sub('<td align=\"center\" class=\"percent\">', '', str(p)) for p in percent]\n",
    "    percent = [re.sub('\\r\\n                        ', '', str(p)) for p in percent]\n",
    "    percent = [re.sub('                   </td>', '', str(p)) for p in percent][:10]\n",
    "    \n",
    "    return title, percent"
   ]
  },
  {
   "cell_type": "markdown",
   "metadata": {},
   "source": [
    "각 사이트에서 해당 날짜의 상위 10위 시청률과 상응하는 프로그램명을 가져오는 함수입니다."
   ]
  },
  {
   "cell_type": "code",
   "execution_count": 3,
   "metadata": {},
   "outputs": [],
   "source": [
    "def get_all_rating(year, broadType):\n",
    "    for month in range(1,13):\n",
    "        for day in range(1,32):\n",
    "            if (year == 2020) & (month != 6):\n",
    "                break\n",
    "                \n",
    "            if (month == 2) & (day == 29):\n",
    "                break\n",
    "            elif (month in [4,6,9,11]) & (day == 31):\n",
    "                break\n",
    "\n",
    "            if (month < 10) & (day < 10):\n",
    "                addr = 'https://www.nielsenkorea.co.kr/tv_terrestrial_day.asp?menu=Tit_1&sub_menu={}&area=00&begin_date={}0{}0{}'.format(broadType, year, month, day)\n",
    "            elif (month >= 10) & (day < 10):\n",
    "                addr = 'https://www.nielsenkorea.co.kr/tv_terrestrial_day.asp?menu=Tit_1&sub_menu={}&area=00&begin_date={}{}0{}'.format(broadType, year, month, day)\n",
    "            elif (month < 10) & (day >= 10):\n",
    "                addr = 'https://www.nielsenkorea.co.kr/tv_terrestrial_day.asp?menu=Tit_1&sub_menu={}&area=00&begin_date={}0{}{}'.format(broadType, year, month, day)\n",
    "            else:\n",
    "                addr = 'https://www.nielsenkorea.co.kr/tv_terrestrial_day.asp?menu=Tit_1&sub_menu={}&area=00&begin_date={}{}{}'.format(broadType, year, month, day)\n",
    "\n",
    "            title, rating = get_title_rating(addr)\n",
    "            rating_table = pd.DataFrame(rating, title).reset_index()\n",
    "            rating_table.rename(columns = {'index' : 'title', 0 : 'rating'}, inplace = True)\n",
    "            rating_table[\"year\"], rating_table[\"month\"], rating_table[\"day\"] = year, month, day\n",
    "\n",
    "            if ((month == 1) & (day == 1)) | ((year == 2020) & (month == 6) & (day == 1)):\n",
    "                all_rating = rating_table\n",
    "            else:\n",
    "                all_rating = pd.concat([all_rating, rating_table]) \n",
    "    \n",
    "    all_rating.reset_index(drop = True, inplace = True)\n",
    "    return all_rating"
   ]
  },
  {
   "cell_type": "markdown",
   "metadata": {},
   "source": [
    "- 지상파 : 1_1\n",
    "- 종편 : 2_1\n",
    "- 케이블 : 3_1\n",
    "- 2019년 전체와 2020년 6월의 지상파, 종편, 케이블의 날짜별 상위 10위 시청률과 프로그램명을 가져오는 함수입니다.\n",
    "- 위의 get_title_rating 함수를 사용합니다."
   ]
  },
  {
   "cell_type": "code",
   "execution_count": 4,
   "metadata": {},
   "outputs": [],
   "source": [
    "# 2019\n",
    "jisang19 = get_all_rating(2019, \"1_1\")\n",
    "jong19 = get_all_rating(2019, \"2_1\")\n",
    "cable19 = get_all_rating(2019, \"3_1\")\n",
    "\n",
    "# 2020\n",
    "jisang20 = get_all_rating(2020, \"1_1\")\n",
    "jong20 = get_all_rating(2020, \"2_1\")\n",
    "cable20 = get_all_rating(2020, \"3_1\")"
   ]
  },
  {
   "cell_type": "code",
   "execution_count": 5,
   "metadata": {},
   "outputs": [],
   "source": [
    "jisang19.to_csv(\"../eda/data/rating/jisang19.csv\")\n",
    "jong19.to_csv(\"../eda/data/rating/jong19.csv\")\n",
    "cable19.to_csv(\"../eda/data/rating/cable19.csv\")\n",
    "\n",
    "jisang20.to_csv(\"../eda/data/rating/jisang20.csv\")\n",
    "jong20.to_csv(\"../eda/data/rating/jong20.csv\")\n",
    "cable20.to_csv(\"../eda/data/rating/cable20.csv\")"
   ]
  },
  {
   "cell_type": "code",
   "execution_count": 6,
   "metadata": {
    "scrolled": true
   },
   "outputs": [
    {
     "data": {
      "text/html": [
       "<div>\n",
       "<style scoped>\n",
       "    .dataframe tbody tr th:only-of-type {\n",
       "        vertical-align: middle;\n",
       "    }\n",
       "\n",
       "    .dataframe tbody tr th {\n",
       "        vertical-align: top;\n",
       "    }\n",
       "\n",
       "    .dataframe thead th {\n",
       "        text-align: right;\n",
       "    }\n",
       "</style>\n",
       "<table border=\"1\" class=\"dataframe\">\n",
       "  <thead>\n",
       "    <tr style=\"text-align: right;\">\n",
       "      <th></th>\n",
       "      <th>title</th>\n",
       "      <th>rating</th>\n",
       "      <th>year</th>\n",
       "      <th>month</th>\n",
       "      <th>day</th>\n",
       "    </tr>\n",
       "  </thead>\n",
       "  <tbody>\n",
       "    <tr>\n",
       "      <th>0</th>\n",
       "      <td>일일연속극(비켜라운명아)</td>\n",
       "      <td>15.6</td>\n",
       "      <td>2019</td>\n",
       "      <td>1</td>\n",
       "      <td>1</td>\n",
       "    </tr>\n",
       "    <tr>\n",
       "      <th>1</th>\n",
       "      <td>KBS9시뉴스</td>\n",
       "      <td>11.8</td>\n",
       "      <td>2019</td>\n",
       "      <td>1</td>\n",
       "      <td>1</td>\n",
       "    </tr>\n",
       "    <tr>\n",
       "      <th>2</th>\n",
       "      <td>신년특선영화(관상1부)</td>\n",
       "      <td>11.8</td>\n",
       "      <td>2019</td>\n",
       "      <td>1</td>\n",
       "      <td>1</td>\n",
       "    </tr>\n",
       "    <tr>\n",
       "      <th>3</th>\n",
       "      <td>KBS뉴스7</td>\n",
       "      <td>10.8</td>\n",
       "      <td>2019</td>\n",
       "      <td>1</td>\n",
       "      <td>1</td>\n",
       "    </tr>\n",
       "    <tr>\n",
       "      <th>4</th>\n",
       "      <td>신년특선영화(관상2부)</td>\n",
       "      <td>10.3</td>\n",
       "      <td>2019</td>\n",
       "      <td>1</td>\n",
       "      <td>1</td>\n",
       "    </tr>\n",
       "    <tr>\n",
       "      <th>5</th>\n",
       "      <td>KBS뉴스(09:30)</td>\n",
       "      <td>9.9</td>\n",
       "      <td>2019</td>\n",
       "      <td>1</td>\n",
       "      <td>1</td>\n",
       "    </tr>\n",
       "    <tr>\n",
       "      <th>6</th>\n",
       "      <td>삼일운동특별기획나의독립영웅</td>\n",
       "      <td>9.8</td>\n",
       "      <td>2019</td>\n",
       "      <td>1</td>\n",
       "      <td>1</td>\n",
       "    </tr>\n",
       "    <tr>\n",
       "      <th>7</th>\n",
       "      <td>아침마당</td>\n",
       "      <td>9.8</td>\n",
       "      <td>2019</td>\n",
       "      <td>1</td>\n",
       "      <td>1</td>\n",
       "    </tr>\n",
       "    <tr>\n",
       "      <th>8</th>\n",
       "      <td>6시내고향</td>\n",
       "      <td>9.3</td>\n",
       "      <td>2019</td>\n",
       "      <td>1</td>\n",
       "      <td>1</td>\n",
       "    </tr>\n",
       "    <tr>\n",
       "      <th>9</th>\n",
       "      <td>인간극장</td>\n",
       "      <td>9.3</td>\n",
       "      <td>2019</td>\n",
       "      <td>1</td>\n",
       "      <td>1</td>\n",
       "    </tr>\n",
       "  </tbody>\n",
       "</table>\n",
       "</div>"
      ],
      "text/plain": [
       "            title rating  year  month  day\n",
       "0   일일연속극(비켜라운명아)   15.6  2019      1    1\n",
       "1         KBS9시뉴스   11.8  2019      1    1\n",
       "2    신년특선영화(관상1부)   11.8  2019      1    1\n",
       "3          KBS뉴스7   10.8  2019      1    1\n",
       "4    신년특선영화(관상2부)   10.3  2019      1    1\n",
       "5    KBS뉴스(09:30)    9.9  2019      1    1\n",
       "6  삼일운동특별기획나의독립영웅    9.8  2019      1    1\n",
       "7            아침마당    9.8  2019      1    1\n",
       "8           6시내고향    9.3  2019      1    1\n",
       "9            인간극장    9.3  2019      1    1"
      ]
     },
     "execution_count": 6,
     "metadata": {},
     "output_type": "execute_result"
    }
   ],
   "source": [
    "jisang19.head(10)"
   ]
  },
  {
   "cell_type": "markdown",
   "metadata": {},
   "source": [
    "이런식으로 구성되어있습니다."
   ]
  },
  {
   "cell_type": "markdown",
   "metadata": {},
   "source": [
    "## (2) 데이터 가공\n",
    "- 크롤링해 온 시청률 정보를 가지고 조원들끼리 분배하여 해당 프로그램의 방영시간을 조사해왔습니다.\n",
    "- 그다음 broad_final에 merge해서 하나의 파일로 만들었습니다.\n",
    "- 이 부분의 코드는 메인 파일에 있습니다."
   ]
  },
  {
   "cell_type": "code",
   "execution_count": null,
   "metadata": {},
   "outputs": [],
   "source": []
  }
 ],
 "metadata": {
  "kernelspec": {
   "display_name": "Python 3",
   "language": "python",
   "name": "python3"
  },
  "language_info": {
   "codemirror_mode": {
    "name": "ipython",
    "version": 3
   },
   "file_extension": ".py",
   "mimetype": "text/x-python",
   "name": "python",
   "nbconvert_exporter": "python",
   "pygments_lexer": "ipython3",
   "version": "3.7.6"
  }
 },
 "nbformat": 4,
 "nbformat_minor": 4
}
