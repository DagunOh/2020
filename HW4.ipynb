{
 "cells": [
  {
   "cell_type": "code",
   "execution_count": 2,
   "metadata": {},
   "outputs": [],
   "source": [
    "%matplotlib inline\n",
    "import numpy as np\n",
    "import scipy as sp\n",
    "from scipy import stats\n",
    "import matplotlib.pyplot as plt\n",
    "import sklearn\n",
    "import pandas as pd\n",
    "from pandas import DataFrame, Series\n",
    "from numpy import nan as NA"
   ]
  },
  {
   "cell_type": "markdown",
   "metadata": {},
   "source": [
    "### 10.2\n",
    "#### (c)"
   ]
  },
  {
   "cell_type": "code",
   "execution_count": 22,
   "metadata": {},
   "outputs": [],
   "source": [
    "# 100 samples (100 draws) for 2.5% quantiles and 97.5% quantiles\n",
    "theta_2_5=[]\n",
    "theta_97_5=[]\n",
    "for i in range(1000):\n",
    "    theta_2_5.append(np.percentile(np.random.normal(8,4,size=100),2.5))\n",
    "    theta_97_5.append(np.percentile(np.random.normal(8,4,size=100),97.5))"
   ]
  },
  {
   "cell_type": "code",
   "execution_count": 38,
   "metadata": {},
   "outputs": [],
   "source": [
    "#Function to get quantiles for 100draws\n",
    "def sum_(x):\n",
    "    percentile=np.percentile(x,[2.5,25,50,75,97.5]).tolist()\n",
    "    sum_1=[np.mean(x),np.std(x)]\n",
    "    sum_1.extend(percentile)\n",
    "    quantile_final=DataFrame(sum_1,index=[\"mean\",\"sd\",\"2.5%\",\"25%\",\"50%\",\"75%\",\"97.5%\"],columns=[\"info\"]).T\n",
    "    return quantile_final\n"
   ]
  },
  {
   "cell_type": "code",
   "execution_count": 39,
   "metadata": {},
   "outputs": [
    {
     "data": {
      "text/html": [
       "<div>\n",
       "<style scoped>\n",
       "    .dataframe tbody tr th:only-of-type {\n",
       "        vertical-align: middle;\n",
       "    }\n",
       "\n",
       "    .dataframe tbody tr th {\n",
       "        vertical-align: top;\n",
       "    }\n",
       "\n",
       "    .dataframe thead th {\n",
       "        text-align: right;\n",
       "    }\n",
       "</style>\n",
       "<table border=\"1\" class=\"dataframe\">\n",
       "  <thead>\n",
       "    <tr style=\"text-align: right;\">\n",
       "      <th></th>\n",
       "      <th>mean</th>\n",
       "      <th>sd</th>\n",
       "      <th>2.5%</th>\n",
       "      <th>25%</th>\n",
       "      <th>50%</th>\n",
       "      <th>75%</th>\n",
       "      <th>97.5%</th>\n",
       "    </tr>\n",
       "  </thead>\n",
       "  <tbody>\n",
       "    <tr>\n",
       "      <th>info</th>\n",
       "      <td>0.471904</td>\n",
       "      <td>0.942568</td>\n",
       "      <td>-1.442003</td>\n",
       "      <td>-0.162299</td>\n",
       "      <td>0.505912</td>\n",
       "      <td>1.117857</td>\n",
       "      <td>2.294102</td>\n",
       "    </tr>\n",
       "  </tbody>\n",
       "</table>\n",
       "</div>"
      ],
      "text/plain": [
       "          mean        sd      2.5%       25%       50%       75%     97.5%\n",
       "info  0.471904  0.942568 -1.442003 -0.162299  0.505912  1.117857  2.294102"
      ]
     },
     "execution_count": 39,
     "metadata": {},
     "output_type": "execute_result"
    }
   ],
   "source": [
    "sum_(theta_2_5)"
   ]
  },
  {
   "cell_type": "code",
   "execution_count": 40,
   "metadata": {
    "scrolled": true
   },
   "outputs": [
    {
     "data": {
      "text/html": [
       "<div>\n",
       "<style scoped>\n",
       "    .dataframe tbody tr th:only-of-type {\n",
       "        vertical-align: middle;\n",
       "    }\n",
       "\n",
       "    .dataframe tbody tr th {\n",
       "        vertical-align: top;\n",
       "    }\n",
       "\n",
       "    .dataframe thead th {\n",
       "        text-align: right;\n",
       "    }\n",
       "</style>\n",
       "<table border=\"1\" class=\"dataframe\">\n",
       "  <thead>\n",
       "    <tr style=\"text-align: right;\">\n",
       "      <th></th>\n",
       "      <th>mean</th>\n",
       "      <th>sd</th>\n",
       "      <th>2.5%</th>\n",
       "      <th>25%</th>\n",
       "      <th>50%</th>\n",
       "      <th>75%</th>\n",
       "      <th>97.5%</th>\n",
       "    </tr>\n",
       "  </thead>\n",
       "  <tbody>\n",
       "    <tr>\n",
       "      <th>info</th>\n",
       "      <td>15.461391</td>\n",
       "      <td>0.980797</td>\n",
       "      <td>13.564373</td>\n",
       "      <td>14.806357</td>\n",
       "      <td>15.459311</td>\n",
       "      <td>16.088346</td>\n",
       "      <td>17.439045</td>\n",
       "    </tr>\n",
       "  </tbody>\n",
       "</table>\n",
       "</div>"
      ],
      "text/plain": [
       "           mean        sd       2.5%        25%        50%        75%  \\\n",
       "info  15.461391  0.980797  13.564373  14.806357  15.459311  16.088346   \n",
       "\n",
       "          97.5%  \n",
       "info  17.439045  "
      ]
     },
     "execution_count": 40,
     "metadata": {},
     "output_type": "execute_result"
    }
   ],
   "source": [
    "sum_(theta_97_5)"
   ]
  },
  {
   "cell_type": "markdown",
   "metadata": {},
   "source": [
    "#### (d)"
   ]
  },
  {
   "cell_type": "code",
   "execution_count": 41,
   "metadata": {},
   "outputs": [],
   "source": [
    "#Tune the size until the standard deviation of each quantile turns to 0.1.\n",
    "#We need 10000 samples (100 draws) for 2.5% quantiles and 97.5% quantiles\n",
    "\n",
    "theta_2_5=[]\n",
    "theta_97_5=[]\n",
    "for i in range(1000):\n",
    "    theta_2_5.append(np.percentile(np.random.normal(8,4,size=10000),2.5))\n",
    "    theta_97_5.append(np.percentile(np.random.normal(8,4,size=10000),97.5))"
   ]
  },
  {
   "cell_type": "code",
   "execution_count": 45,
   "metadata": {},
   "outputs": [
    {
     "data": {
      "text/html": [
       "<div>\n",
       "<style scoped>\n",
       "    .dataframe tbody tr th:only-of-type {\n",
       "        vertical-align: middle;\n",
       "    }\n",
       "\n",
       "    .dataframe tbody tr th {\n",
       "        vertical-align: top;\n",
       "    }\n",
       "\n",
       "    .dataframe thead th {\n",
       "        text-align: right;\n",
       "    }\n",
       "</style>\n",
       "<table border=\"1\" class=\"dataframe\">\n",
       "  <thead>\n",
       "    <tr style=\"text-align: right;\">\n",
       "      <th></th>\n",
       "      <th>mean</th>\n",
       "      <th>sd</th>\n",
       "      <th>2.5%</th>\n",
       "      <th>25%</th>\n",
       "      <th>50%</th>\n",
       "      <th>75%</th>\n",
       "      <th>97.5%</th>\n",
       "    </tr>\n",
       "  </thead>\n",
       "  <tbody>\n",
       "    <tr>\n",
       "      <th>info</th>\n",
       "      <td>0.16527</td>\n",
       "      <td>0.107826</td>\n",
       "      <td>-0.039509</td>\n",
       "      <td>0.091993</td>\n",
       "      <td>0.167172</td>\n",
       "      <td>0.242927</td>\n",
       "      <td>0.367923</td>\n",
       "    </tr>\n",
       "  </tbody>\n",
       "</table>\n",
       "</div>"
      ],
      "text/plain": [
       "         mean        sd      2.5%       25%       50%       75%     97.5%\n",
       "info  0.16527  0.107826 -0.039509  0.091993  0.167172  0.242927  0.367923"
      ]
     },
     "execution_count": 45,
     "metadata": {},
     "output_type": "execute_result"
    }
   ],
   "source": [
    "sum_(theta_2_5)"
   ]
  },
  {
   "cell_type": "code",
   "execution_count": 46,
   "metadata": {
    "scrolled": true
   },
   "outputs": [
    {
     "data": {
      "text/html": [
       "<div>\n",
       "<style scoped>\n",
       "    .dataframe tbody tr th:only-of-type {\n",
       "        vertical-align: middle;\n",
       "    }\n",
       "\n",
       "    .dataframe tbody tr th {\n",
       "        vertical-align: top;\n",
       "    }\n",
       "\n",
       "    .dataframe thead th {\n",
       "        text-align: right;\n",
       "    }\n",
       "</style>\n",
       "<table border=\"1\" class=\"dataframe\">\n",
       "  <thead>\n",
       "    <tr style=\"text-align: right;\">\n",
       "      <th></th>\n",
       "      <th>mean</th>\n",
       "      <th>sd</th>\n",
       "      <th>2.5%</th>\n",
       "      <th>25%</th>\n",
       "      <th>50%</th>\n",
       "      <th>75%</th>\n",
       "      <th>97.5%</th>\n",
       "    </tr>\n",
       "  </thead>\n",
       "  <tbody>\n",
       "    <tr>\n",
       "      <th>info</th>\n",
       "      <td>15.836113</td>\n",
       "      <td>0.105367</td>\n",
       "      <td>15.647863</td>\n",
       "      <td>15.759864</td>\n",
       "      <td>15.836532</td>\n",
       "      <td>15.902476</td>\n",
       "      <td>16.04152</td>\n",
       "    </tr>\n",
       "  </tbody>\n",
       "</table>\n",
       "</div>"
      ],
      "text/plain": [
       "           mean        sd       2.5%        25%        50%        75%  \\\n",
       "info  15.836113  0.105367  15.647863  15.759864  15.836532  15.902476   \n",
       "\n",
       "         97.5%  \n",
       "info  16.04152  "
      ]
     },
     "execution_count": 46,
     "metadata": {},
     "output_type": "execute_result"
    }
   ],
   "source": [
    "sum_(theta_97_5)"
   ]
  },
  {
   "cell_type": "markdown",
   "metadata": {},
   "source": [
    "### 10.3\n",
    "#### (a)"
   ]
  },
  {
   "cell_type": "code",
   "execution_count": 48,
   "metadata": {},
   "outputs": [
    {
     "data": {
      "text/html": [
       "<div>\n",
       "<style scoped>\n",
       "    .dataframe tbody tr th:only-of-type {\n",
       "        vertical-align: middle;\n",
       "    }\n",
       "\n",
       "    .dataframe tbody tr th {\n",
       "        vertical-align: top;\n",
       "    }\n",
       "\n",
       "    .dataframe thead th {\n",
       "        text-align: right;\n",
       "    }\n",
       "</style>\n",
       "<table border=\"1\" class=\"dataframe\">\n",
       "  <thead>\n",
       "    <tr style=\"text-align: right;\">\n",
       "      <th></th>\n",
       "      <th>mean</th>\n",
       "      <th>sd</th>\n",
       "      <th>2.5%</th>\n",
       "      <th>25%</th>\n",
       "      <th>50%</th>\n",
       "      <th>75%</th>\n",
       "      <th>97.5%</th>\n",
       "    </tr>\n",
       "  </thead>\n",
       "  <tbody>\n",
       "    <tr>\n",
       "      <th>info</th>\n",
       "      <td>0.093049</td>\n",
       "      <td>0.169685</td>\n",
       "      <td>-0.250165</td>\n",
       "      <td>-0.025265</td>\n",
       "      <td>0.100278</td>\n",
       "      <td>0.215351</td>\n",
       "      <td>0.41684</td>\n",
       "    </tr>\n",
       "  </tbody>\n",
       "</table>\n",
       "</div>"
      ],
      "text/plain": [
       "          mean        sd      2.5%       25%       50%       75%    97.5%\n",
       "info  0.093049  0.169685 -0.250165 -0.025265  0.100278  0.215351  0.41684"
      ]
     },
     "execution_count": 48,
     "metadata": {},
     "output_type": "execute_result"
    }
   ],
   "source": [
    "def exercise_10_3_a(alpha, beta, n_samples=1000):\n",
    "    p1 = np.random.beta(alpha + 6, beta + 4, n_samples)\n",
    "    p2 = np.random.beta(alpha + 10, beta + 10, n_samples)\n",
    "    \n",
    "    sub_samples = p1 - p2\n",
    "    return sub_samples\n",
    "\n",
    "samples = exercise_10_3_a(1, 1, 1000)\n",
    "sum_(samples)\n"
   ]
  },
  {
   "cell_type": "code",
   "execution_count": 51,
   "metadata": {
    "scrolled": true
   },
   "outputs": [
    {
     "name": "stdout",
     "output_type": "stream",
     "text": [
      "p(p1>p2): 0.71\n"
     ]
    }
   ],
   "source": [
    "print ('p(p1>p2):', np.sum(samples > 0) / 1000)"
   ]
  },
  {
   "cell_type": "markdown",
   "metadata": {},
   "source": [
    "#### (b)"
   ]
  },
  {
   "cell_type": "code",
   "execution_count": 55,
   "metadata": {},
   "outputs": [
    {
     "data": {
      "text/plain": [
       "(0.6863834211926292, 6.9775735714831695e-09)"
      ]
     },
     "execution_count": 55,
     "metadata": {},
     "output_type": "execute_result"
    }
   ],
   "source": [
    "#We need to use the scipy package to use integral \n",
    "#scipy.integrate.dblquad(func, a, b, gfun, hfun, args=(), epsabs=1.49e-08, epsrel=1.49e-08)\n",
    "\n",
    "from scipy import integrate\n",
    "def exercise_10_3_b(alpha, beta):\n",
    "    beta_pdf= stats.beta.pdf\n",
    "    return integrate.dblquad(lambda p2,p1:\n",
    "                             beta_pdf(p1, alpha+6, beta+4)*beta_pdf(p2, alpha+10, beta+10),\n",
    "                            0,1, lambda p1:0, lambda p1:p1)\n",
    "\n",
    "exercise_10_3_b(1,1)"
   ]
  },
  {
   "cell_type": "markdown",
   "metadata": {},
   "source": [
    "### 10.5"
   ]
  },
  {
   "cell_type": "code",
   "execution_count": 630,
   "metadata": {},
   "outputs": [],
   "source": [
    "#a,b\n",
    "alpha = np.random.standard_t(4)*2\n",
    "beta = np.random.standard_t(4)\n",
    "\n",
    "#x\n",
    "J=10\n",
    "x = np.random.uniform(0,1,J) #list format\n",
    "\n",
    "#theta\n",
    "theta = 1/(1+np.exp(-alpha - beta*x)) #list format\n",
    "\n",
    "#n~pois(5)\n",
    "from scipy.stats import poisson\n",
    "\n",
    "n=[]\n",
    "for i in range(10):\n",
    "    r = poisson.rvs(5, size=1)[0]\n",
    "    if (r <0):\n",
    "        r = possion.rvs(5, size=1)[0]\n",
    "        n.append(r)\n",
    "    else:\n",
    "        n.append(r)\n",
    "\n",
    "#y~binom(n, theta)\n",
    "y=[]\n",
    "for i in range(10):\n",
    "    v = np.random.binomial(n[i],theta[i])\n",
    "    y.append(v)"
   ]
  },
  {
   "cell_type": "code",
   "execution_count": 631,
   "metadata": {},
   "outputs": [
    {
     "data": {
      "text/plain": [
       "5.2039464100260915"
      ]
     },
     "execution_count": 631,
     "metadata": {},
     "output_type": "execute_result"
    }
   ],
   "source": [
    "alpha"
   ]
  },
  {
   "cell_type": "code",
   "execution_count": 632,
   "metadata": {},
   "outputs": [
    {
     "data": {
      "text/plain": [
       "0.7723887163095199"
      ]
     },
     "execution_count": 632,
     "metadata": {},
     "output_type": "execute_result"
    }
   ],
   "source": [
    "beta"
   ]
  },
  {
   "cell_type": "code",
   "execution_count": 633,
   "metadata": {},
   "outputs": [
    {
     "data": {
      "text/plain": [
       "array([0.9958909 , 0.99617187, 0.99498429, 0.99589473, 0.99589746,\n",
       "       0.99590569, 0.9963099 , 0.99684732, 0.99674467, 0.99726308])"
      ]
     },
     "execution_count": 633,
     "metadata": {},
     "output_type": "execute_result"
    }
   ],
   "source": [
    "theta"
   ]
  },
  {
   "cell_type": "code",
   "execution_count": 634,
   "metadata": {},
   "outputs": [
    {
     "data": {
      "text/plain": [
       "[5, 8, 6, 6, 2, 3, 5, 0, 5, 3]"
      ]
     },
     "execution_count": 634,
     "metadata": {},
     "output_type": "execute_result"
    }
   ],
   "source": [
    "n"
   ]
  },
  {
   "cell_type": "code",
   "execution_count": 635,
   "metadata": {},
   "outputs": [
    {
     "data": {
      "text/plain": [
       "[5, 8, 6, 6, 2, 3, 5, 0, 5, 3]"
      ]
     },
     "execution_count": 635,
     "metadata": {},
     "output_type": "execute_result"
    }
   ],
   "source": [
    "y"
   ]
  },
  {
   "cell_type": "code",
   "execution_count": 636,
   "metadata": {},
   "outputs": [
    {
     "data": {
      "text/plain": [
       "array([0.37091032, 0.46297401, 0.11160945, 0.37212388, 0.37298798,\n",
       "       0.37559812, 0.51069851, 0.71517977, 0.67356477, 0.89881519])"
      ]
     },
     "execution_count": 636,
     "metadata": {},
     "output_type": "execute_result"
    }
   ],
   "source": [
    "x"
   ]
  },
  {
   "cell_type": "code",
   "execution_count": 637,
   "metadata": {},
   "outputs": [],
   "source": [
    "#draw 1000 samples\n",
    "#We can use for loop and while but\n",
    "#Wanted to try different\n",
    "#since this is rejection sampling, \n",
    "#we should consider the samples that are not rejected\n",
    "#So increase the size to 20000\n",
    "\n",
    "s = 20000\n",
    "alpha = np.random.standard_t(4, size=(1, s))*2\n",
    "beta = np.random.standard_t(4, size=(1, s))\n",
    "\n",
    "n = np.array(n).reshape(-1,1)\n",
    "y = np.array(y).reshape(-1,1)\n",
    "x = x.reshape(-1,1)\n",
    "\n",
    "theta = 1./(1. + np.exp(-alpha - beta*x))\n",
    "nCy = comb(n, y)\n",
    "acc_rate = np.prod(nCy * theta**y * (1 - theta)**(n-y), axis=0)\n",
    "acc_rate /= acc_rate.max() #divide into maximum or acc.rate\n"
   ]
  },
  {
   "cell_type": "code",
   "execution_count": 638,
   "metadata": {},
   "outputs": [],
   "source": [
    "unif = np.random.uniform(0, 1, size=s)\n",
    "acc = (acc_rate >= unif)"
   ]
  },
  {
   "cell_type": "code",
   "execution_count": 639,
   "metadata": {},
   "outputs": [
    {
     "name": "stdout",
     "output_type": "stream",
     "text": [
      "average acceptance rate: 0.06268515726450642\n",
      "posterior mode of alpha: 5.562911324383685\n",
      "posterior mode of beta: 0.5426477972449537\n"
     ]
    }
   ],
   "source": [
    "unif = np.random.uniform(0, 1, size=s)\n",
    "acc = (acc_rate >= unif) #if acc_rate is larger than unif\n",
    "\n",
    "idx = np.nonzero(acc)[0] #0이 아닌 것의 Index 반환\n",
    "\n",
    "a = np.sort(alpha.squeeze()[idx][:1000]) #slice til 1000\n",
    "b = np.sort(beta.squeeze()[idx][:1000]) #slice til 1000\n",
    "\n",
    "print ('average acceptance rate:', acc_rate.mean())\n",
    "print ('posterior mode of alpha:', a.mean())\n",
    "print ('posterior mode of beta:', b.mean())"
   ]
  },
  {
   "cell_type": "code",
   "execution_count": 640,
   "metadata": {
    "scrolled": true
   },
   "outputs": [
    {
     "data": {
      "image/png": "[encoded data removed]",
      "text/plain": [
       "<Figure size 432x288 with 2 Axes>"
      ]
     },
     "metadata": {
      "needs_background": "light"
     },
     "output_type": "display_data"
    }
   ],
   "source": [
    "import matplotlib.pyplot as plt\n",
    "\n",
    "fig = plt.figure()\n",
    "ax1 = fig.add_subplot(1, 2, 1)\n",
    "ax1.hist(a, bins=20)\n",
    "\n",
    "ax1.set_xlabel(r'$\\alpha$')\n",
    "ax1.set_ylabel('samples')\n",
    "ax1.set_title(r'$p(\\alpha|y, n, x)$')\n",
    "\n",
    "ax2 = fig.add_subplot(1, 2, 2)\n",
    "ax2.hist(b, bins=20, color='green')\n",
    "\n",
    "ax2.set_xlabel(r'$\\beta$')\n",
    "ax2.set_title(r'$p(\\beta|y, n, x)$')\n"
   ]
  },
  {
   "cell_type": "code",
   "execution_count": 616,
   "metadata": {},
   "outputs": [
    {
     "name": "stdout",
     "output_type": "stream",
     "text": [
      "posterior mode:\n",
      "0.13151455466117368 0.0034660275473345336\n",
      "covariance matrix: [[0.19646121 0.3773043 ]\n",
      " [0.3773043  0.72681626]]\n"
     ]
    }
   ],
   "source": [
    "#(c)\n",
    "#get covariance matrix\n",
    "k = np.vstack((a, b))\n",
    "Cov_mat = np.cov(k)\n",
    "\n",
    "#get mode\n",
    "import statistics\n",
    "\n",
    "a_mode, b_mode = a.mean(), b.mean()\n",
    "print ('posterior mode:')\n",
    "print (a_mode, b_mode)\n",
    "\n",
    "print ('covariance matrix:', Cov_mat)\n"
   ]
  },
  {
   "cell_type": "code",
   "execution_count": 641,
   "metadata": {},
   "outputs": [
    {
     "data": {
      "text/plain": [
       "array([9.55227254e-01, 4.68974624e-03, 5.89993394e-02, 9.09920859e-01,\n",
       "       8.78669204e-01, 7.89241633e-01, 8.11860229e-05, 9.90407644e-17,\n",
       "       9.86653190e-14, 1.83402928e-33])"
      ]
     },
     "execution_count": 641,
     "metadata": {},
     "output_type": "execute_result"
    }
   ],
   "source": [
    "approx_norm =stats.multivariate_normal.pdf(\n",
    "    x, [a_mode, b_mode], Cov_mat)\n",
    "\n",
    "approx_norm"
   ]
  },
  {
   "cell_type": "code",
   "execution_count": 647,
   "metadata": {
    "scrolled": true
   },
   "outputs": [
    {
     "name": "stdout",
     "output_type": "stream",
     "text": [
      "E(alpha|..) 2.8410440297675565\n",
      "E(beta|..) 5.08139848482075\n"
     ]
    }
   ],
   "source": [
    "#(d)\n",
    "\n",
    "from statsmodels.sandbox.distributions.multivariate import multivariate_t_rvs\n",
    "from scipy.special import gamma\n",
    "\n",
    "def multivariate_t_pdf(x, mu, sigma, v):\n",
    "    d = np.array(mu).shape[0]\n",
    "    pdform = 1./ np.linalg.det(sigma)**0.5 * 1. / np.sqrt(\n",
    "        (v*np.pi)**d) * gamma((v+d)/2.) / gamma(v/2.) * (\n",
    "        1. + ((x - mu).dot(np.linalg.inv(sigma))*(x - mu)).sum(\n",
    "        axis=1))**(-(v+d)/2)\n",
    "    return pdform\n",
    "\n",
    "samples = multivariate_t_rvs([a_mode, b_mode], Cov_mat, 4, 1000)\n",
    "dt = multivariate_t_pdf(samples, [a_mode, b_mode], Cov_mat, 4)\n",
    "\n",
    "a, b = samples[:, 0], samples[:, 1]\n",
    "# (10, 1000)\n",
    "theta = 1./(1. + np.exp(-a.reshape((1, -1)) - b.reshape((1, -1))*x))\n",
    "\n",
    "nCy = comb(n, y)\n",
    "p_a = stats.t.pdf(a/2., 4)\n",
    "p_b = stats.t.pdf(b, 4)\n",
    "p = p_a* p_b * np.prod(nCy * theta**y * (1. - theta)**(n-y), axis=0)\n",
    "\n",
    "w = p/dt\n",
    "w_new = w/w.sum(axis=0)\n",
    "E = (samples*w_new.reshape(-1, 1)).sum(axis=0)\n",
    "print ('E(alpha|..)', E[0])\n",
    "print ('E(beta|..)', E[1])"
   ]
  },
  {
   "cell_type": "code",
   "execution_count": 648,
   "metadata": {},
   "outputs": [
    {
     "name": "stdout",
     "output_type": "stream",
     "text": [
      "effective sample size: 4.757167249234651\n"
     ]
    }
   ],
   "source": [
    "#(e)\n",
    "print ('effective sample size:', 1./np.sum(w_new**2))"
   ]
  },
  {
   "cell_type": "code",
   "execution_count": 643,
   "metadata": {},
   "outputs": [
    {
     "data": {
      "image/png": "[encoded data removed]",
      "text/plain": [
       "<Figure size 432x288 with 1 Axes>"
      ]
     },
     "metadata": {
      "needs_background": "light"
     },
     "output_type": "display_data"
    }
   ],
   "source": [
    "def exercise_10_6(S):\n",
    "    samples = np.random.standard_t(3, size=S)\n",
    "    w = stats.norm.pdf(samples) / stats.t.pdf(samples, 3)\n",
    "    w_new = w / w.sum()\n",
    "    return samples, w_new\n",
    "\n",
    "#compute the importance ratios\n",
    "samples, wnew = exercise_10_6(100)\n",
    "log_w_new = np.log(wnew)\n",
    "\n",
    "#plot histogram of the log importance ratio\n",
    "plot1 = plt.hist(log_w_new, bins=50)"
   ]
  },
  {
   "cell_type": "code",
   "execution_count": 435,
   "metadata": {},
   "outputs": [
    {
     "name": "stdout",
     "output_type": "stream",
     "text": [
      "E(theta|y): 0.09470464095892935\n",
      "var(theta|y): 1.0483917332167307\n"
     ]
    }
   ],
   "source": [
    "expect = (samples*wnew).sum()/wnew.sum()\n",
    "print ('E(theta|y):', expect)\n",
    "var = (samples**2 * wnew).sum() - (expect**2).sum()\n",
    "print ('var(theta|y):', var)"
   ]
  },
  {
   "cell_type": "code",
   "execution_count": 436,
   "metadata": {},
   "outputs": [
    {
     "name": "stdout",
     "output_type": "stream",
     "text": [
      "E(theta|y): 0.009532266322569134\n",
      "var(theta|y): 0.9846934981048375\n"
     ]
    },
    {
     "data": {
      "image/png": "[encoded data removed]",
      "text/plain": [
       "<Figure size 432x288 with 1 Axes>"
      ]
     },
     "metadata": {
      "needs_background": "light"
     },
     "output_type": "display_data"
    }
   ],
   "source": [
    "def exercise_10_6(S):\n",
    "    samples = np.random.standard_t(3, size=S)\n",
    "    w = stats.norm.pdf(samples) / stats.t.pdf(samples, 3)\n",
    "    w_new = w / w.sum()\n",
    "    return samples, w_new\n",
    "\n",
    "#compute the importance ratios\n",
    "samples, wnew = exercise_10_6(10000)\n",
    "log_w_new = np.log(wnew)\n",
    "\n",
    "#plot histogram of the log importance ratio\n",
    "plot2 = plt.hist(log_w_new, bins=50)\n",
    "\n",
    "expect = (samples*wnew).sum()/wnew.sum()\n",
    "print ('E(theta|y):', expect)\n",
    "var = (samples**2 * wnew).sum() - (expect**2).sum()\n",
    "print ('var(theta|y):', var)\n"
   ]
  },
  {
   "cell_type": "code",
   "execution_count": 438,
   "metadata": {
    "scrolled": true
   },
   "outputs": [
    {
     "name": "stdout",
     "output_type": "stream",
     "text": [
      "effective sample size:  9224.90369509241\n"
     ]
    }
   ],
   "source": [
    "print(\"effective sample size: \", 1/np.sum(wnew**2))"
   ]
  },
  {
   "cell_type": "code",
   "execution_count": 9,
   "metadata": {},
   "outputs": [
    {
     "name": "stdout",
     "output_type": "stream",
     "text": [
      "(4, 1001, 2)\n"
     ]
    }
   ],
   "source": [
    "from numpy.random import normal      \n",
    "import matplotlib.pyplot as plt\n",
    "%matplotlib inline\n",
    "\n",
    "def GibbsSampler(theta0, y, k, rho):\n",
    "    \n",
    "    theta = [theta0]\n",
    "    for i in range(k):\n",
    "        theta2 = theta[-1][1] # theta2 from previous iteration\n",
    "        theta1 = normal(y[0] + rho*(theta2 - y[1]), 1-rho**2)\n",
    "        theta.append([theta1, theta2])\n",
    "        theta2 = normal(y[1] + rho*(theta1 - y[0]), 1-rho**2)\n",
    "        theta.append([theta1, theta2])\n",
    "        \n",
    "    return np.array(theta)\n",
    "        \n",
    "# Data as given by Gelman et al. \n",
    "y = [0, 0]\n",
    "rho = 0.8\n",
    "k = 500\n",
    "\n",
    "# Four chains starting from four points of a square\n",
    "theta0_list = [[-2.5, -2.5], [2.5, -2.5], [-2.5, 2.5], [2.5, 2.5]]\n",
    "data = []\n",
    "for theta0 in theta0_list:\n",
    "    data.append(GibbsSampler(theta0, y, k, rho))\n",
    "\n",
    "data = np.array(data)\n",
    "print (np.array(data).shape)"
   ]
  },
  {
   "cell_type": "code",
   "execution_count": 15,
   "metadata": {},
   "outputs": [
    {
     "data": {
      "text/plain": [
       "array([[ 2.5       , -2.5       ],\n",
       "       [-2.18427548, -2.5       ],\n",
       "       [-2.18427548, -1.12464316],\n",
       "       ...,\n",
       "       [ 0.3095792 ,  0.80661153],\n",
       "       [ 0.42577953,  0.80661153],\n",
       "       [ 0.42577953,  0.31950442]])"
      ]
     },
     "execution_count": 15,
     "metadata": {},
     "output_type": "execute_result"
    }
   ],
   "source": [
    "data[1]"
   ]
  },
  {
   "cell_type": "code",
   "execution_count": 6,
   "metadata": {},
   "outputs": [
    {
     "data": {
      "image/png": "[encoded data removed]",
      "text/plain": [
       "<Figure size 576x432 with 1 Axes>"
      ]
     },
     "metadata": {
      "needs_background": "light"
     },
     "output_type": "display_data"
    }
   ],
   "source": [
    "nsteps = 10\n",
    "for i in range(4):\n",
    "    plt.plot(data[i, 0:nsteps, 0], data[i, 0:nsteps, 1], \"o-\")\n",
    "    \n",
    "plt.xlabel(r\"$\\theta_1$\")\n",
    "plt.ylabel(r\"$\\theta_2$\", rotation=\"horizontal\")\n",
    "\n",
    "plt.show()"
   ]
  },
  {
   "cell_type": "code",
   "execution_count": 18,
   "metadata": {},
   "outputs": [
    {
     "data": {
      "image/png": "[encoded data removed]",
      "text/plain": [
       "<Figure size 432x288 with 1 Axes>"
      ]
     },
     "metadata": {
      "needs_background": "light"
     },
     "output_type": "display_data"
    }
   ],
   "source": [
    "for i in range(4):\n",
    "    plt.plot(data[i, 0:, 0], data[i, 0:, 1])\n",
    "    \n",
    "plt.xlabel(r\"$\\theta_1$\")\n",
    "plt.ylabel(r\"$\\theta_2$\", rotation=\"horizontal\")\n",
    "\n",
    "plt.show()"
   ]
  },
  {
   "cell_type": "code",
   "execution_count": null,
   "metadata": {},
   "outputs": [],
   "source": []
  }
 ],
 "metadata": {
  "kernelspec": {
   "display_name": "Python 3 (ipykernel)",
   "language": "python",
   "name": "python3"
  },
  "language_info": {
   "codemirror_mode": {
    "name": "ipython",
    "version": 3
   },
   "file_extension": ".py",
   "mimetype": "text/x-python",
   "name": "python",
   "nbconvert_exporter": "python",
   "pygments_lexer": "ipython3",
   "version": "3.8.3"
  }
 },
 "nbformat": 4,
 "nbformat_minor": 4
}
